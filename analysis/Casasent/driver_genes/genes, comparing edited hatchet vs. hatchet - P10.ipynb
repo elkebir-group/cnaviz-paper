{
 "cells": [
  {
   "cell_type": "code",
   "execution_count": 1,
   "id": "bed8b953",
   "metadata": {},
   "outputs": [],
   "source": [
    "def get_gene_names(contig):\n",
    "    c = data.genes(contig=contig)\n",
    "    gene_names = set([g.gene_name for g in c])\n",
    "    return gene_names"
   ]
  },
  {
   "cell_type": "code",
   "execution_count": 2,
   "id": "d1a9c2f8",
   "metadata": {},
   "outputs": [],
   "source": [
    "def check_genes(chrom_gene_names, important_genes):\n",
    "    hits = []\n",
    "    for g in important_genes:\n",
    "        if g in chrom_gene_names:\n",
    "            hits.append(g)\n",
    "    print(len(hits), '/ %s important genes found.' % (str(len(important_genes))))\n",
    "    genes = []\n",
    "    for g in hits:\n",
    "        genes.append(data.genes_by_name(g))\n",
    "    return genes"
   ]
  },
  {
   "cell_type": "code",
   "execution_count": 3,
   "id": "2ac3031a",
   "metadata": {},
   "outputs": [],
   "source": [
    "def calc_prop(prop):\n",
    "    for key in prop:\n",
    "        print(key, sum(prop[key]))"
   ]
  },
  {
   "cell_type": "code",
   "execution_count": 4,
   "id": "cdcbabc1",
   "metadata": {},
   "outputs": [],
   "source": [
    "def read_data(f, num_clones):\n",
    "    bins = dict()\n",
    "    cloneprop = dict()\n",
    "    for i in range(num_clones):\n",
    "        if i == 0:\n",
    "            cloneprop['norm'] = []\n",
    "        else:\n",
    "            cloneprop['c%s' % str(i)]  = []\n",
    "    with open(f, \"r\") as r: \n",
    "        lines = r.readlines()\n",
    "        print(lines[0])\n",
    "        for line in lines[1:]: \n",
    "            elems = line.split()\n",
    "            chrm, start, end, sample = elems[:4]\n",
    "            tup = []\n",
    "            #print(elems[11:])\n",
    "            for i, x in enumerate(elems[11:]): \n",
    "                if i == 1:\n",
    "                    cloneprop['norm'].append(float(x))\n",
    "                elif i % 2 == 1:\n",
    "                    cloneprop['c%s' % str(i // 2)].append(float(x))\n",
    "                if i % 2 == 0:\n",
    "                    tup.append(x)\n",
    "\n",
    "            if sample not in bins.keys():\n",
    "                bins[sample] = dict()\n",
    "            if chrm not in bins[sample]:\n",
    "                bins[sample][chrm] = dict()\n",
    "                \n",
    "            bins[sample][chrm][start] = [(start, end), tuple(tup)]\n",
    "    \n",
    "    return bins, cloneprop"
   ]
  },
  {
   "cell_type": "code",
   "execution_count": 5,
   "id": "3f2bf025",
   "metadata": {},
   "outputs": [],
   "source": [
    "def find_ref(bins):\n",
    "    # find what the reference WGD is\n",
    "    counts = dict()\n",
    "    for sample in bins:\n",
    "        for chrm in bins[sample]:\n",
    "            for bin_s in bins[sample][chrm]:\n",
    "                norm = bins[sample][chrm][bin_s][1][0]\n",
    "                if norm not in counts:\n",
    "                    counts[norm] = 0\n",
    "                counts[norm] += 1\n",
    "    return counts"
   ]
  },
  {
   "cell_type": "code",
   "execution_count": 6,
   "id": "1680cc6a",
   "metadata": {},
   "outputs": [],
   "source": [
    "def find_sum(s):\n",
    "    a, b = s.split('|')\n",
    "    return int(a) + int(b)"
   ]
  },
  {
   "cell_type": "code",
   "execution_count": 7,
   "id": "5fd956f2",
   "metadata": {},
   "outputs": [],
   "source": [
    "def calc_overlap(bin_s, bin_e, gene_s, gene_e):\n",
    "    return min(bin_e, gene_e) - max(bin_s, gene_s)"
   ]
  },
  {
   "cell_type": "code",
   "execution_count": 8,
   "id": "0c726000",
   "metadata": {},
   "outputs": [],
   "source": [
    "def run_overlapping_bindict(important_gene_dict, bins):\n",
    "    overlapping_bindict = dict()\n",
    "    for chrm in important_gene_dict.keys():\n",
    "        overlapping_bindict[chrm] = dict()\n",
    "        for gene in important_gene_dict[chrm]: \n",
    "            print(\"Processing gene %s\" % gene[0], (gene[1], gene[2]))\n",
    "\n",
    "            c, s, e = 'chr%s' % str(chrm), gene[1], gene[2]\n",
    "            overlapping_bins = [set(), 0] \n",
    "            for sample in bins.keys():\n",
    "\n",
    "                for bin_s in bins[sample][c]:\n",
    "                    bin_s, bin_e = bins[sample][c][bin_s][0]\n",
    "                    bin_s, bin_e = int(bin_s), int(bin_e)\n",
    "\n",
    "                    o = calc_overlap(bin_s, bin_e, s, e)\n",
    "                    if o > 0:\n",
    "                        print(o, (s, e), (bin_s, bin_e))\n",
    "                        if o > overlapping_bins[1]:\n",
    "                            print(\"Updating overlapping_bins because\", o, \">\", overlapping_bins[1])\n",
    "                            overlapping_bins[0] = (bin_s, bin_e)\n",
    "                            overlapping_bins[1] = o\n",
    "\n",
    "            print(overlapping_bins)\n",
    "            if overlapping_bins[0]:\n",
    "                overlapping_bindict[chrm][gene] = overlapping_bins[0]\n",
    "    return overlapping_bindict"
   ]
  },
  {
   "cell_type": "code",
   "execution_count": 9,
   "id": "30722eb7",
   "metadata": {},
   "outputs": [],
   "source": [
    "def run_heatmap_dict(overlapping_bindict, numclones, bins): \n",
    "    heatmap_dict = dict()\n",
    "\n",
    "    # figure out total sum counts at each of these segments\n",
    "    for chrm in overlapping_bindict:\n",
    "        for gene_info in overlapping_bindict[chrm]:\n",
    "            gene_name, gene_s, gene_e = gene_info\n",
    "            # print(overlapping_bindict[chrm][gene_info])\n",
    "            bin_s, bin_e = overlapping_bindict[chrm][gene_info]\n",
    "            for sample in bins.keys():\n",
    "                if sample not in heatmap_dict:\n",
    "                    heatmap_dict[sample] = dict()\n",
    "                if gene_name not in heatmap_dict[sample]:\n",
    "                    heatmap_dict[sample][gene_name] = dict()\n",
    "                \n",
    "                cn_norm = bins[sample]['chr%s' % str(chrm)][str(bin_s)][1][0]\n",
    "                \n",
    "                cn_list, cn_allele_list, cn_loh_list = [], [], []\n",
    "                for i in range(1, numclones):\n",
    "                    cn = bins[sample]['chr%s' % str(chrm)][str(bin_s)][1][i]\n",
    "                    cn_sum = find_sum(cn)\n",
    "                    cn_allele = cn.split('|')\n",
    "                    cn_loh = True if int(cn_allele[0]) == 0 or int(cn_allele[1]) == 0 else False \n",
    "                    \n",
    "                    cn_list.append(cn_sum)\n",
    "                    cn_allele_list.append(cn_allele)\n",
    "                    cn_loh_list.append(cn_loh)\n",
    "                    \n",
    "                heatmap_dict[sample][gene_name]['total_cn'] = cn_list\n",
    "                heatmap_dict[sample][gene_name]['allele'] = cn_allele_list \n",
    "                heatmap_dict[sample][gene_name]['LOH'] = cn_loh_list \n",
    "\n",
    "    return heatmap_dict"
   ]
  },
  {
   "cell_type": "code",
   "execution_count": 10,
   "id": "c0f8c63c",
   "metadata": {},
   "outputs": [],
   "source": [
    "import seaborn as sns; sns.set_theme()\n",
    "import matplotlib.pyplot as plt\n",
    "import numpy as np\n",
    "from matplotlib.patches import Rectangle\n",
    "\n",
    "def run_plot_genes(overlapping_bindict, heatmap_dict, patient, numclones):\n",
    "    if numclones == 2: \n",
    "        plot_data = []\n",
    "    elif numclones > 2:\n",
    "        plot_data = []\n",
    "        for i in range(numclones-1):\n",
    "            plot_data.append([])\n",
    "    \n",
    "    genes = list(heatmap_dict[patient])\n",
    "    groups = dict()\n",
    "\n",
    "    # create groups\n",
    "    for chrm in overlapping_bindict:\n",
    "        groups[chrm] = [] \n",
    "        for gene in genes:\n",
    "            if gene in set([x[0] for x in overlapping_bindict[chrm].keys()]): \n",
    "                groups[chrm].append(gene)\n",
    "    print(groups)\n",
    "\n",
    "    for gene in genes: \n",
    "        cn_sums = heatmap_dict[patient][gene]['total_cn']\n",
    "        if numclones == 2:\n",
    "            plot_data.append(cn_sums[0])\n",
    "        else:\n",
    "            print(\"cn_sums\", cn_sums)\n",
    "            for i, x in enumerate(cn_sums):\n",
    "                plot_data[i].append(x)\n",
    "    \n",
    "    if numclones == 2:\n",
    "        plot_data = np.array([plot_data])\n",
    "    else:\n",
    "        plot_data = np.array(plot_data)\n",
    "    \n",
    "    print(plot_data)\n",
    "    \n",
    "    ylabels = ['Clone %s' % str(i) for i in range(1, numclones)]\n",
    "    print(ylabels)\n",
    "    ax = sns.heatmap(plot_data, center=2.0, linewidths=.5, xticklabels=genes, yticklabels=ylabels, cmap=\"YlGnBu\", annot=True, fmt='d')\n",
    "    for i, gene in enumerate(genes): \n",
    "        for j, loh in enumerate(heatmap_dict[patient][gene]['LOH']):\n",
    "            if loh:\n",
    "                #print(i, j)\n",
    "                ax.add_patch(Rectangle((i, j), 1, 1, edgecolor='blue', fill=False, lw=3))\n",
    "\n",
    "    ax.set_title('%s Edited HATCHet: Total CN' % patient )\n",
    "    plt.ylabel('Clones')\n",
    "    plt.xlabel('Genes')\n",
    "    return genes"
   ]
  },
  {
   "cell_type": "code",
   "execution_count": 11,
   "id": "f1ec811e",
   "metadata": {},
   "outputs": [],
   "source": [
    "def run_plot_allele_specific_genes(heatmap_dict, patient): \n",
    "\n",
    "    plot_data = [[], []]\n",
    "    genes = list(heatmap_dict[sample])\n",
    "    for gene in genes: \n",
    "        cn_sum_c1 = heatmap_dict[sample][gene]['allele']\n",
    "        plot_data[0].append(int(cn_sum_c1[0][0]))\n",
    "        plot_data[1].append(int(cn_sum_c1[0][1]))\n",
    "    plot_data = np.array(plot_data)\n",
    "\n",
    "    ax = sns.heatmap(plot_data, center=2.0, linewidths=.5, cmap=\"YlGnBu\", xticklabels=genes, yticklabels=['Clone 1: A', 'Clone 1: B'], annot=True, fmt='d')\n",
    "    ax.set_title('%s Edited HATCHet: Allele-Specific CN' % patient)\n",
    "    for i, gene in enumerate(genes): \n",
    "        for j, cns in enumerate(heatmap_dict[sample][gene]['allele']):\n",
    "            for z, cn in enumerate(cns):\n",
    "                cn = int(cn)\n",
    "                if cn < ref:\n",
    "                    ax.add_patch(Rectangle((i, j*2 + z), 1, 1, edgecolor='blue', fill=False, lw=3))\n",
    "\n",
    "    plt.ylabel('Allele-Specific Clones')\n",
    "    plt.xlabel('Genes')"
   ]
  },
  {
   "cell_type": "code",
   "execution_count": 12,
   "id": "6a5f6502",
   "metadata": {},
   "outputs": [],
   "source": [
    "def run_plot_summary(heatmap_dict):\n",
    "    plot_data = []\n",
    "    genes = list(heatmap_dict[sample])\n",
    "    groups = dict()\n",
    "\n",
    "    # create groups\n",
    "    for chrm in overlapping_bindict:\n",
    "        groups[chrm] = [] \n",
    "        for gene in genes:\n",
    "            if gene in set([x[0] for x in overlapping_bindict[chrm].keys()]): \n",
    "                groups[chrm].append(gene)\n",
    "    print(groups)\n",
    "\n",
    "\n",
    "    for gene in genes: \n",
    "        for i, cn in enumerate(heatmap_dict[sample][gene]['total_cn']):\n",
    "            if cn > ref: \n",
    "                plot_data.append(1)\n",
    "            elif cn == ref:\n",
    "                plot_data.append(0)\n",
    "            else:\n",
    "                plot_data.append(-1)\n",
    "    plot_data = np.array([plot_data])\n",
    "    print(list(plot_data))\n",
    "\n",
    "\n",
    "    ax = sns.heatmap(plot_data, center=0, linewidths=.5, xticklabels=genes, yticklabels=['Clone 1'], cmap=\"PiYG\")\n",
    "    for i, gene in enumerate(genes): \n",
    "        for j, loh in enumerate(heatmap_dict[sample][gene]['LOH']):\n",
    "            if loh:\n",
    "                #print(i, j)\n",
    "                ax.add_patch(Rectangle((i, j), 1, 1, edgecolor='blue', fill=False, lw=3))\n",
    "\n",
    "    # annotate with chrm\n",
    "    # https://stackoverflow.com/questions/58854335/how-to-label-y-ticklabels-as-group-category-in-seaborn-clustermap\n",
    "    #annotate_xranges(groups)\n",
    "\n",
    "    ax.set_title('%s Edited HATCHet: Total CN' % patient)\n",
    "    plt.ylabel('Clones')\n",
    "    plt.xlabel('Genes')\n"
   ]
  },
  {
   "cell_type": "code",
   "execution_count": 13,
   "id": "b9a78230",
   "metadata": {},
   "outputs": [],
   "source": [
    "def calc_plot_data(sncell, edited, genes): \n",
    "    count_sum = dict()\n",
    "    count_sum['amps'] = dict()\n",
    "    count_sum['amps']['amps'] = 0\n",
    "    count_sum['amps']['neus'] = 0\n",
    "    count_sum['amps']['dels'] = 0\n",
    "    count_sum['neus'] = dict()\n",
    "    count_sum['neus']['amps'] = 0\n",
    "    count_sum['neus']['neus'] = 0\n",
    "    count_sum['neus']['dels'] = 0\n",
    "    count_sum['dels'] = dict()\n",
    "    count_sum['dels']['amps'] = 0\n",
    "    count_sum['dels']['neus'] = 0\n",
    "    count_sum['dels']['dels'] = 0\n",
    "\n",
    "    correct = []\n",
    "    incorrect = []\n",
    "    for clone_idx, d in enumerate(sncell):\n",
    "        for gene_idx, g in enumerate(sncell[clone_idx]):\n",
    "            if g == 1:\n",
    "                if edited[clone_idx][gene_idx] == 1:\n",
    "                    count_sum['amps']['amps'] += 1\n",
    "                    correct.append(('amps, amps', genes[gene_idx]))\n",
    "                elif edited[clone_idx][gene_idx] == 0:\n",
    "                    count_sum['amps']['neus'] += 1\n",
    "                    incorrect.append(('amps, neus', genes[gene_idx]))\n",
    "                elif edited[clone_idx][gene_idx] == -1:\n",
    "                    count_sum['amps']['dels'] += 1\n",
    "                    incorrect.append(('amps, dels', genes[gene_idx]))\n",
    "                else:\n",
    "                    print(\"huh?\")\n",
    "            elif g == 0: \n",
    "                if edited[clone_idx][gene_idx] == 1:\n",
    "                    count_sum['neus']['amps'] += 1\n",
    "                    incorrect.append(('neus, amps', genes[gene_idx]))\n",
    "                elif edited[clone_idx][gene_idx] == 0:\n",
    "                    count_sum['neus']['neus'] += 1\n",
    "                    correct.append(('neus, neus', genes[gene_idx]))\n",
    "                elif edited[clone_idx][gene_idx] == -1:\n",
    "                    count_sum['neus']['dels'] += 1\n",
    "                    incorrect.append(('neus, dels', genes[gene_idx]))\n",
    "                else:\n",
    "                    print(\"huh?\")\n",
    "            elif g == -1:\n",
    "                if edited[clone_idx][gene_idx] == 1:\n",
    "                    count_sum['dels']['amps'] += 1\n",
    "                    incorrect.append(('dels, amps', genes[gene_idx]))\n",
    "                elif edited[clone_idx][gene_idx] == 0:\n",
    "                    count_sum['dels']['neus'] += 1\n",
    "                    incorrect.append(('dels, neus', genes[gene_idx]))\n",
    "                elif edited[clone_idx][gene_idx] == -1:\n",
    "                    count_sum['dels']['dels'] += 1\n",
    "                    correct.append(('dels, dels', genes[gene_idx]))\n",
    "                else:\n",
    "                    print(\"huh?\")\n",
    "    print(\"correct\", correct)\n",
    "    print(\"incorrect\", incorrect)\n",
    "    plot_data = []\n",
    "    plot_data = [[count_sum['amps']['amps'], count_sum['amps']['neus'], count_sum['amps']['dels']],\n",
    "              [count_sum['neus']['amps'], count_sum['neus']['neus'], count_sum['neus']['dels']],\n",
    "              [count_sum['dels']['amps'], count_sum['dels']['neus'], count_sum['dels']['dels']]\n",
    "             ]\n",
    "    return plot_data"
   ]
  },
  {
   "cell_type": "code",
   "execution_count": 14,
   "id": "bc7fd5d5",
   "metadata": {},
   "outputs": [],
   "source": [
    "def run_plot_heatmap(data, title): \n",
    "    cmap = sns.color_palette(\"flare\", as_cmap=True)\n",
    "    ax = sns.heatmap(data, linewidths=.5, xticklabels=['Amplification', 'Neutral', \"Deletion\"], yticklabels=['Amplification', 'Neutral', \"Deletion\"], annot =True, fmt='d', cmap=cmap)\n",
    "    ax.set_title(title)\n",
    "    plt.ylabel('Single Cell Classification')\n",
    "    plt.xlabel('HATCHet Classification')\n"
   ]
  },
  {
   "cell_type": "code",
   "execution_count": 15,
   "id": "ffb9d703",
   "metadata": {},
   "outputs": [],
   "source": [
    "from pyensembl import EnsemblRelease\n",
    "data = EnsemblRelease(104)"
   ]
  },
  {
   "cell_type": "markdown",
   "id": "ba13ed73",
   "metadata": {},
   "source": [
    "# Casasent Patient P10"
   ]
  },
  {
   "cell_type": "code",
   "execution_count": 16,
   "id": "c5022035",
   "metadata": {},
   "outputs": [],
   "source": [
    "patient = 'P10'"
   ]
  },
  {
   "cell_type": "code",
   "execution_count": 17,
   "id": "e5233f86",
   "metadata": {},
   "outputs": [
    {
     "name": "stdout",
     "output_type": "stream",
     "text": [
      "4 / 5 important genes found.\n",
      "3 / 3 important genes found.\n",
      "4 / 5 important genes found.\n",
      "4 / 4 important genes found.\n",
      "5 / 5 important genes found.\n",
      "3 / 3 important genes found.\n",
      "0 / 2 important genes found.\n"
     ]
    }
   ],
   "source": [
    "casasent_c1 = ['MYCL1', 'PDZK1IP1', 'GADD45A', 'MLLT11', 'SDHC']\n",
    "casasent_c2 = ['MYCN', 'PAX8', 'ERCC3']\n",
    "casasent_c3 = ['FANCD2', 'MLH1', 'CTNNB1', 'EVI1', 'PIK3CA']\n",
    "casasent_c5 = ['LIFR', 'PIK3R1', 'APC', 'HSD17B4']\n",
    "casasent_c7 = ['PMS2', 'ETV1', 'TWIST1', 'TRIM24', 'BRAF']\n",
    "casasent_c13 = ['BRCA2', 'FOXO1', 'RB1']\n",
    "casasent_c16 = ['BUB1B', 'CASC5']\n",
    "\n",
    "gene_names_c1 = get_gene_names(1)\n",
    "gene_names_c2 = get_gene_names(2)\n",
    "gene_names_c3 = get_gene_names(3)\n",
    "gene_names_c5 = get_gene_names(5)\n",
    "gene_names_c7 = get_gene_names(7)\n",
    "gene_names_c13 = get_gene_names(13)\n",
    "gene_names_c16 = get_gene_names(16)\n",
    "\n",
    "genes_c1 = check_genes(gene_names_c1, casasent_c1)\n",
    "genes_c2 = check_genes(gene_names_c2, casasent_c2)\n",
    "genes_c3 = check_genes(gene_names_c3, casasent_c3)\n",
    "genes_c5 = check_genes(gene_names_c5, casasent_c5)\n",
    "genes_c7 = check_genes(gene_names_c7, casasent_c7)\n",
    "genes_c13 = check_genes(gene_names_c13, casasent_c13)\n",
    "genes_c16 = check_genes(gene_names_c16, casasent_c16)\n",
    "\n",
    "important_gene_dict = dict()\n",
    "important_gene_dict[1] = [(g[0].gene_name, g[0].start, g[0].end) for g in genes_c1]\n",
    "\n",
    "important_gene_dict[2] = [(g[0].gene_name, g[0].start, g[0].end) for g in genes_c2]\n",
    "important_gene_dict[3] = [(g[0].gene_name, g[0].start, g[0].end) for g in genes_c3]\n",
    "important_gene_dict[5] = [(g[0].gene_name, g[0].start, g[0].end) for g in genes_c5]\n",
    "\n",
    "important_gene_dict[7] = [(g[0].gene_name, g[0].start, g[0].end) for g in genes_c7]\n",
    "important_gene_dict[13] = [(g[0].gene_name, g[0].start, g[0].end) for g in genes_c13]\n",
    "important_gene_dict[16] = [(g[0].gene_name, g[0].start, g[0].end) for g in genes_c16]\n"
   ]
  },
  {
   "cell_type": "markdown",
   "id": "623fca15",
   "metadata": {},
   "source": [
    "Unedited Hatchet"
   ]
  },
  {
   "cell_type": "code",
   "execution_count": 18,
   "id": "08923636",
   "metadata": {},
   "outputs": [
    {
     "name": "stdout",
     "output_type": "stream",
     "text": [
      "#CHR\tSTART\tEND\tSAMPLE\tRD\t#SNPS\tCOV\tALPHA\tBETA\tBAF\tCLUSTER\tcn_normal\tu_normal\tcn_clone1\tu_clone1\tcn_clone2\tu_clone2\tcn_clone3\tu_clone3\n",
      "\n",
      "{'1|1': 13060}\n",
      "norm 1268.1677920000025\n",
      "c1 4429.1879900005815\n",
      "c2 1231.2791689998433\n",
      "c3 6131.363090000197\n"
     ]
    }
   ],
   "source": [
    "# for unedited hatchet \n",
    "\n",
    "old_hatchet = \"/Users/gillianchu/mek/cnaviz/og_hatchet/output_P10/results/best.bbc.ucn\"\n",
    "og_bins, og_prop = read_data(old_hatchet, 4)\n",
    "print(find_ref(og_bins))\n",
    "calc_prop(og_prop)"
   ]
  },
  {
   "cell_type": "code",
   "execution_count": 19,
   "id": "90e9709e",
   "metadata": {},
   "outputs": [],
   "source": [
    "ref = 2"
   ]
  },
  {
   "cell_type": "code",
   "execution_count": 20,
   "id": "e388b356",
   "metadata": {
    "scrolled": true
   },
   "outputs": [
    {
     "name": "stdout",
     "output_type": "stream",
     "text": [
      "Processing gene PDZK1IP1 (47183582, 47191044)\n",
      "7462 (47183582, 47191044) (47000000, 47250000)\n",
      "Updating overlapping_bins because 7462 > 0\n",
      "7462 (47183582, 47191044) (47000000, 47250000)\n",
      "[(47000000, 47250000), 7462]\n",
      "Processing gene GADD45A (67685201, 67688334)\n",
      "3133 (67685201, 67688334) (67500000, 67750000)\n",
      "Updating overlapping_bins because 3133 > 0\n",
      "3133 (67685201, 67688334) (67500000, 67750000)\n",
      "[(67500000, 67750000), 3133]\n",
      "Processing gene MLLT11 (151060397, 151069544)\n",
      "9147 (151060397, 151069544) (151000000, 151250000)\n",
      "Updating overlapping_bins because 9147 > 0\n",
      "9147 (151060397, 151069544) (151000000, 151250000)\n",
      "[(151000000, 151250000), 9147]\n",
      "Processing gene SDHC (161314381, 161363206)\n",
      "48825 (161314381, 161363206) (161250000, 161500000)\n",
      "Updating overlapping_bins because 48825 > 0\n",
      "48825 (161314381, 161363206) (161250000, 161500000)\n",
      "[(161250000, 161500000), 48825]\n",
      "Processing gene MYCN (15940550, 15947007)\n",
      "6457 (15940550, 15947007) (15750000, 16000000)\n",
      "Updating overlapping_bins because 6457 > 0\n",
      "6457 (15940550, 15947007) (15750000, 16000000)\n",
      "[(15750000, 16000000), 6457]\n",
      "Processing gene PAX8 (113215997, 113278921)\n",
      "34003 (113215997, 113278921) (113000000, 113250000)\n",
      "Updating overlapping_bins because 34003 > 0\n",
      "28921 (113215997, 113278921) (113250000, 113500000)\n",
      "34003 (113215997, 113278921) (113000000, 113250000)\n",
      "28921 (113215997, 113278921) (113250000, 113500000)\n",
      "[(113000000, 113250000), 34003]\n",
      "Processing gene ERCC3 (127257290, 127294166)\n",
      "36876 (127257290, 127294166) (127250000, 127500000)\n",
      "Updating overlapping_bins because 36876 > 0\n",
      "36876 (127257290, 127294166) (127250000, 127500000)\n",
      "[(127250000, 127500000), 36876]\n",
      "Processing gene FANCD2 (10026370, 10101932)\n",
      "75562 (10026370, 10101932) (10000000, 10250000)\n",
      "Updating overlapping_bins because 75562 > 0\n",
      "75562 (10026370, 10101932) (10000000, 10250000)\n",
      "[(10000000, 10250000), 75562]\n",
      "Processing gene MLH1 (36993350, 37050846)\n",
      "6650 (36993350, 37050846) (36750000, 37000000)\n",
      "Updating overlapping_bins because 6650 > 0\n",
      "50846 (36993350, 37050846) (37000000, 37250000)\n",
      "Updating overlapping_bins because 50846 > 6650\n",
      "6650 (36993350, 37050846) (36750000, 37000000)\n",
      "50846 (36993350, 37050846) (37000000, 37250000)\n",
      "[(37000000, 37250000), 50846]\n",
      "Processing gene CTNNB1 (41194741, 41260096)\n",
      "55259 (41194741, 41260096) (41000000, 41250000)\n",
      "Updating overlapping_bins because 55259 > 0\n",
      "10096 (41194741, 41260096) (41250000, 41500000)\n",
      "55259 (41194741, 41260096) (41000000, 41250000)\n",
      "10096 (41194741, 41260096) (41250000, 41500000)\n",
      "[(41000000, 41250000), 55259]\n",
      "Processing gene PIK3CA (179148114, 179240093)\n",
      "91979 (179148114, 179240093) (179000000, 179250000)\n",
      "Updating overlapping_bins because 91979 > 0\n",
      "91979 (179148114, 179240093) (179000000, 179250000)\n",
      "[(179000000, 179250000), 91979]\n",
      "Processing gene LIFR (38474668, 38608354)\n",
      "25332 (38474668, 38608354) (38250000, 38500000)\n",
      "Updating overlapping_bins because 25332 > 0\n",
      "108354 (38474668, 38608354) (38500000, 38750000)\n",
      "Updating overlapping_bins because 108354 > 25332\n",
      "25332 (38474668, 38608354) (38250000, 38500000)\n",
      "108354 (38474668, 38608354) (38500000, 38750000)\n",
      "[(38500000, 38750000), 108354]\n",
      "Processing gene PIK3R1 (68215756, 68301821)\n",
      "51821 (68215756, 68301821) (68250000, 68500000)\n",
      "Updating overlapping_bins because 51821 > 0\n",
      "51821 (68215756, 68301821) (68250000, 68500000)\n",
      "[(68250000, 68500000), 51821]\n",
      "Processing gene APC (112707498, 112846239)\n",
      "42502 (112707498, 112846239) (112500000, 112750000)\n",
      "Updating overlapping_bins because 42502 > 0\n",
      "96239 (112707498, 112846239) (112750000, 113000000)\n",
      "Updating overlapping_bins because 96239 > 42502\n",
      "42502 (112707498, 112846239) (112500000, 112750000)\n",
      "96239 (112707498, 112846239) (112750000, 113000000)\n",
      "[(112750000, 113000000), 96239]\n",
      "Processing gene HSD17B4 (119452465, 119637199)\n",
      "[set(), 0]\n",
      "Processing gene PMS2 (5970925, 6009106)\n",
      "29075 (5970925, 6009106) (5750000, 6000000)\n",
      "Updating overlapping_bins because 29075 > 0\n",
      "9106 (5970925, 6009106) (6000000, 6250000)\n",
      "29075 (5970925, 6009106) (5750000, 6000000)\n",
      "9106 (5970925, 6009106) (6000000, 6250000)\n",
      "[(5750000, 6000000), 29075]\n",
      "Processing gene ETV1 (13891229, 13991425)\n",
      "100196 (13891229, 13991425) (13750000, 14000000)\n",
      "Updating overlapping_bins because 100196 > 0\n",
      "100196 (13891229, 13991425) (13750000, 14000000)\n",
      "[(13750000, 14000000), 100196]\n",
      "Processing gene TWIST1 (19020991, 19117636)\n",
      "96645 (19020991, 19117636) (19000000, 19250000)\n",
      "Updating overlapping_bins because 96645 > 0\n",
      "96645 (19020991, 19117636) (19000000, 19250000)\n",
      "[(19000000, 19250000), 96645]\n",
      "Processing gene TRIM24 (138460259, 138589996)\n",
      "39741 (138460259, 138589996) (138250000, 138500000)\n",
      "Updating overlapping_bins because 39741 > 0\n",
      "89996 (138460259, 138589996) (138500000, 138750000)\n",
      "Updating overlapping_bins because 89996 > 39741\n",
      "39741 (138460259, 138589996) (138250000, 138500000)\n",
      "89996 (138460259, 138589996) (138500000, 138750000)\n",
      "[(138500000, 138750000), 89996]\n",
      "Processing gene BRAF (140719327, 140924929)\n",
      "[set(), 0]\n",
      "Processing gene BRCA2 (32315086, 32400268)\n",
      "85182 (32315086, 32400268) (32250000, 32500000)\n",
      "Updating overlapping_bins because 85182 > 0\n",
      "85182 (32315086, 32400268) (32250000, 32500000)\n",
      "[(32250000, 32500000), 85182]\n",
      "Processing gene FOXO1 (40555667, 40666641)\n",
      "[set(), 0]\n",
      "Processing gene RB1 (48303744, 48599436)\n",
      "196256 (48303744, 48599436) (48250000, 48500000)\n",
      "Updating overlapping_bins because 196256 > 0\n",
      "99436 (48303744, 48599436) (48500000, 48750000)\n",
      "196256 (48303744, 48599436) (48250000, 48500000)\n",
      "99436 (48303744, 48599436) (48500000, 48750000)\n",
      "[(48250000, 48500000), 196256]\n"
     ]
    }
   ],
   "source": [
    "unedited_overlapping_bindict = run_overlapping_bindict(important_gene_dict, og_bins)\n",
    "unedited_heatmap_dict = run_heatmap_dict(unedited_overlapping_bindict, 4, og_bins)"
   ]
  },
  {
   "cell_type": "markdown",
   "id": "5bf2e774",
   "metadata": {},
   "source": [
    "Edited Hatchet"
   ]
  },
  {
   "cell_type": "code",
   "execution_count": 21,
   "id": "8378e2d0",
   "metadata": {},
   "outputs": [
    {
     "name": "stdout",
     "output_type": "stream",
     "text": [
      "#CHR\tSTART\tEND\tSAMPLE\tRD\t#SNPS\tCOV\tALPHA\tBETA\tBAF\tCLUSTER\tcn_normal\tu_normal\tcn_clone1\tu_clone1\tcn_clone2\tu_clone2\n",
      "\n",
      "{'1|1': 13044}\n",
      "norm 1335.7082088002724\n",
      "c1 5551.415526000635\n",
      "c2 6156.872352000569\n"
     ]
    }
   ],
   "source": [
    "# for edited hatchet \n",
    "# chosen solution was tetraploid\n",
    "edited_hatchet = \"/Users/gillianchu/mek/cnaviz/og_hatchet/output_HP10_v1/results/results.diploid.n3.bbc.ucn.tsv\"\n",
    "edited_bins, edited_cloneprop = read_data(edited_hatchet, 3)\n",
    "print(find_ref(edited_bins))\n",
    "calc_prop(edited_cloneprop)"
   ]
  },
  {
   "cell_type": "code",
   "execution_count": 22,
   "id": "96e886bc",
   "metadata": {},
   "outputs": [],
   "source": [
    "ref = 2"
   ]
  },
  {
   "cell_type": "code",
   "execution_count": 23,
   "id": "12a18f35",
   "metadata": {
    "scrolled": true
   },
   "outputs": [
    {
     "name": "stdout",
     "output_type": "stream",
     "text": [
      "Processing gene PDZK1IP1 (47183582, 47191044)\n",
      "7462 (47183582, 47191044) (47000000, 47250000)\n",
      "Updating overlapping_bins because 7462 > 0\n",
      "7462 (47183582, 47191044) (47000000, 47250000)\n",
      "[(47000000, 47250000), 7462]\n",
      "Processing gene GADD45A (67685201, 67688334)\n",
      "3133 (67685201, 67688334) (67500000, 67750000)\n",
      "Updating overlapping_bins because 3133 > 0\n",
      "3133 (67685201, 67688334) (67500000, 67750000)\n",
      "[(67500000, 67750000), 3133]\n",
      "Processing gene MLLT11 (151060397, 151069544)\n",
      "9147 (151060397, 151069544) (151000000, 151250000)\n",
      "Updating overlapping_bins because 9147 > 0\n",
      "9147 (151060397, 151069544) (151000000, 151250000)\n",
      "[(151000000, 151250000), 9147]\n",
      "Processing gene SDHC (161314381, 161363206)\n",
      "48825 (161314381, 161363206) (161250000, 161500000)\n",
      "Updating overlapping_bins because 48825 > 0\n",
      "48825 (161314381, 161363206) (161250000, 161500000)\n",
      "[(161250000, 161500000), 48825]\n",
      "Processing gene MYCN (15940550, 15947007)\n",
      "6457 (15940550, 15947007) (15750000, 16000000)\n",
      "Updating overlapping_bins because 6457 > 0\n",
      "6457 (15940550, 15947007) (15750000, 16000000)\n",
      "[(15750000, 16000000), 6457]\n",
      "Processing gene PAX8 (113215997, 113278921)\n",
      "34003 (113215997, 113278921) (113000000, 113250000)\n",
      "Updating overlapping_bins because 34003 > 0\n",
      "28921 (113215997, 113278921) (113250000, 113500000)\n",
      "34003 (113215997, 113278921) (113000000, 113250000)\n",
      "28921 (113215997, 113278921) (113250000, 113500000)\n",
      "[(113000000, 113250000), 34003]\n",
      "Processing gene ERCC3 (127257290, 127294166)\n",
      "36876 (127257290, 127294166) (127250000, 127500000)\n",
      "Updating overlapping_bins because 36876 > 0\n",
      "36876 (127257290, 127294166) (127250000, 127500000)\n",
      "[(127250000, 127500000), 36876]\n",
      "Processing gene FANCD2 (10026370, 10101932)\n",
      "75562 (10026370, 10101932) (10000000, 10250000)\n",
      "Updating overlapping_bins because 75562 > 0\n",
      "75562 (10026370, 10101932) (10000000, 10250000)\n",
      "[(10000000, 10250000), 75562]\n",
      "Processing gene MLH1 (36993350, 37050846)\n",
      "6650 (36993350, 37050846) (36750000, 37000000)\n",
      "Updating overlapping_bins because 6650 > 0\n",
      "50846 (36993350, 37050846) (37000000, 37250000)\n",
      "Updating overlapping_bins because 50846 > 6650\n",
      "6650 (36993350, 37050846) (36750000, 37000000)\n",
      "50846 (36993350, 37050846) (37000000, 37250000)\n",
      "[(37000000, 37250000), 50846]\n",
      "Processing gene CTNNB1 (41194741, 41260096)\n",
      "55259 (41194741, 41260096) (41000000, 41250000)\n",
      "Updating overlapping_bins because 55259 > 0\n",
      "10096 (41194741, 41260096) (41250000, 41500000)\n",
      "55259 (41194741, 41260096) (41000000, 41250000)\n",
      "10096 (41194741, 41260096) (41250000, 41500000)\n",
      "[(41000000, 41250000), 55259]\n",
      "Processing gene PIK3CA (179148114, 179240093)\n",
      "91979 (179148114, 179240093) (179000000, 179250000)\n",
      "Updating overlapping_bins because 91979 > 0\n",
      "91979 (179148114, 179240093) (179000000, 179250000)\n",
      "[(179000000, 179250000), 91979]\n",
      "Processing gene LIFR (38474668, 38608354)\n",
      "25332 (38474668, 38608354) (38250000, 38500000)\n",
      "Updating overlapping_bins because 25332 > 0\n",
      "108354 (38474668, 38608354) (38500000, 38750000)\n",
      "Updating overlapping_bins because 108354 > 25332\n",
      "25332 (38474668, 38608354) (38250000, 38500000)\n",
      "108354 (38474668, 38608354) (38500000, 38750000)\n",
      "[(38500000, 38750000), 108354]\n",
      "Processing gene PIK3R1 (68215756, 68301821)\n",
      "51821 (68215756, 68301821) (68250000, 68500000)\n",
      "Updating overlapping_bins because 51821 > 0\n",
      "51821 (68215756, 68301821) (68250000, 68500000)\n",
      "[(68250000, 68500000), 51821]\n",
      "Processing gene APC (112707498, 112846239)\n",
      "42502 (112707498, 112846239) (112500000, 112750000)\n",
      "Updating overlapping_bins because 42502 > 0\n",
      "96239 (112707498, 112846239) (112750000, 113000000)\n",
      "Updating overlapping_bins because 96239 > 42502\n",
      "42502 (112707498, 112846239) (112500000, 112750000)\n",
      "96239 (112707498, 112846239) (112750000, 113000000)\n",
      "[(112750000, 113000000), 96239]\n",
      "Processing gene HSD17B4 (119452465, 119637199)\n",
      "[set(), 0]\n",
      "Processing gene PMS2 (5970925, 6009106)\n",
      "29075 (5970925, 6009106) (5750000, 6000000)\n",
      "Updating overlapping_bins because 29075 > 0\n",
      "9106 (5970925, 6009106) (6000000, 6250000)\n",
      "29075 (5970925, 6009106) (5750000, 6000000)\n",
      "9106 (5970925, 6009106) (6000000, 6250000)\n",
      "[(5750000, 6000000), 29075]\n",
      "Processing gene ETV1 (13891229, 13991425)\n",
      "100196 (13891229, 13991425) (13750000, 14000000)\n",
      "Updating overlapping_bins because 100196 > 0\n",
      "100196 (13891229, 13991425) (13750000, 14000000)\n",
      "[(13750000, 14000000), 100196]\n",
      "Processing gene TWIST1 (19020991, 19117636)\n",
      "96645 (19020991, 19117636) (19000000, 19250000)\n",
      "Updating overlapping_bins because 96645 > 0\n",
      "96645 (19020991, 19117636) (19000000, 19250000)\n",
      "[(19000000, 19250000), 96645]\n",
      "Processing gene TRIM24 (138460259, 138589996)\n",
      "39741 (138460259, 138589996) (138250000, 138500000)\n",
      "Updating overlapping_bins because 39741 > 0\n",
      "89996 (138460259, 138589996) (138500000, 138750000)\n",
      "Updating overlapping_bins because 89996 > 39741\n",
      "39741 (138460259, 138589996) (138250000, 138500000)\n",
      "89996 (138460259, 138589996) (138500000, 138750000)\n",
      "[(138500000, 138750000), 89996]\n",
      "Processing gene BRAF (140719327, 140924929)\n",
      "[set(), 0]\n",
      "Processing gene BRCA2 (32315086, 32400268)\n",
      "85182 (32315086, 32400268) (32250000, 32500000)\n",
      "Updating overlapping_bins because 85182 > 0\n",
      "85182 (32315086, 32400268) (32250000, 32500000)\n",
      "[(32250000, 32500000), 85182]\n",
      "Processing gene FOXO1 (40555667, 40666641)\n",
      "[set(), 0]\n",
      "Processing gene RB1 (48303744, 48599436)\n",
      "196256 (48303744, 48599436) (48250000, 48500000)\n",
      "Updating overlapping_bins because 196256 > 0\n",
      "99436 (48303744, 48599436) (48500000, 48750000)\n",
      "196256 (48303744, 48599436) (48250000, 48500000)\n",
      "99436 (48303744, 48599436) (48500000, 48750000)\n",
      "[(48250000, 48500000), 196256]\n"
     ]
    }
   ],
   "source": [
    "edited_overlapping_bindict = run_overlapping_bindict(important_gene_dict, edited_bins)\n",
    "edited_heatmap_dict = run_heatmap_dict(edited_overlapping_bindict, 2, edited_bins)"
   ]
  },
  {
   "cell_type": "markdown",
   "id": "5587ce62",
   "metadata": {},
   "source": [
    "# Looking at the Majority Clones"
   ]
  },
  {
   "cell_type": "code",
   "execution_count": 24,
   "id": "1118d163",
   "metadata": {},
   "outputs": [
    {
     "name": "stdout",
     "output_type": "stream",
     "text": [
      "{1: ['PDZK1IP1', 'GADD45A', 'MLLT11', 'SDHC'], 2: ['MYCN', 'PAX8', 'ERCC3'], 3: ['FANCD2', 'MLH1', 'CTNNB1', 'PIK3CA'], 5: ['LIFR', 'PIK3R1', 'APC'], 7: ['PMS2', 'ETV1', 'TWIST1', 'TRIM24'], 13: ['BRCA2', 'RB1'], 16: []}\n",
      "cn_sums [2, 6, 2]\n",
      "cn_sums [2, 6, 2]\n",
      "cn_sums [2, 6, 2]\n",
      "cn_sums [2, 6, 2]\n",
      "cn_sums [2, 6, 2]\n",
      "cn_sums [1, 2, 1]\n",
      "cn_sums [1, 2, 1]\n",
      "cn_sums [3, 3, 1]\n",
      "cn_sums [3, 3, 1]\n",
      "cn_sums [3, 3, 1]\n",
      "cn_sums [3, 3, 1]\n",
      "cn_sums [1, 1, 2]\n",
      "cn_sums [1, 1, 1]\n",
      "cn_sums [1, 1, 1]\n",
      "cn_sums [1, 1, 1]\n",
      "cn_sums [1, 2, 1]\n",
      "cn_sums [1, 1, 1]\n",
      "cn_sums [3, 6, 2]\n",
      "cn_sums [1, 1, 1]\n",
      "cn_sums [1, 1, 1]\n",
      "[[2 2 2 2 2 1 1 3 3 3 3 1 1 1 1 1 1 3 1 1]\n",
      " [6 6 6 6 6 2 2 3 3 3 3 1 1 1 1 2 1 6 1 1]\n",
      " [2 2 2 2 2 1 1 1 1 1 1 2 1 1 1 1 1 2 1 1]]\n",
      "['Clone 1', 'Clone 2', 'Clone 3']\n"
     ]
    },
    {
     "data": {
      "image/png": "[encoded data removed]",
      "text/plain": [
       "<Figure size 432x288 with 2 Axes>"
      ]
     },
     "metadata": {},
     "output_type": "display_data"
    }
   ],
   "source": [
    "og_dcis_genes = run_plot_genes(unedited_overlapping_bindict, unedited_heatmap_dict, \"P10_DCIS\", 4)"
   ]
  },
  {
   "cell_type": "code",
   "execution_count": 25,
   "id": "963ed562",
   "metadata": {},
   "outputs": [
    {
     "name": "stdout",
     "output_type": "stream",
     "text": [
      "{1: ['PDZK1IP1', 'GADD45A', 'MLLT11', 'SDHC'], 2: ['MYCN', 'PAX8', 'ERCC3'], 3: ['FANCD2', 'MLH1', 'CTNNB1', 'PIK3CA'], 5: ['LIFR', 'PIK3R1', 'APC'], 7: ['PMS2', 'ETV1', 'TWIST1', 'TRIM24'], 13: ['BRCA2', 'RB1'], 16: []}\n",
      "cn_sums [2, 6, 2]\n",
      "cn_sums [2, 6, 2]\n",
      "cn_sums [2, 6, 2]\n",
      "cn_sums [2, 6, 2]\n",
      "cn_sums [2, 6, 2]\n",
      "cn_sums [1, 2, 1]\n",
      "cn_sums [1, 2, 1]\n",
      "cn_sums [3, 3, 1]\n",
      "cn_sums [3, 3, 1]\n",
      "cn_sums [3, 3, 1]\n",
      "cn_sums [3, 3, 1]\n",
      "cn_sums [1, 1, 2]\n",
      "cn_sums [1, 1, 1]\n",
      "cn_sums [1, 1, 1]\n",
      "cn_sums [1, 1, 1]\n",
      "cn_sums [1, 2, 1]\n",
      "cn_sums [1, 1, 1]\n",
      "cn_sums [3, 6, 2]\n",
      "cn_sums [1, 1, 1]\n",
      "cn_sums [1, 1, 1]\n",
      "[[2 2 2 2 2 1 1 3 3 3 3 1 1 1 1 1 1 3 1 1]\n",
      " [6 6 6 6 6 2 2 3 3 3 3 1 1 1 1 2 1 6 1 1]\n",
      " [2 2 2 2 2 1 1 1 1 1 1 2 1 1 1 1 1 2 1 1]]\n",
      "['Clone 1', 'Clone 2', 'Clone 3']\n"
     ]
    },
    {
     "data": {
      "image/png": "[encoded data removed]",
      "text/plain": [
       "<Figure size 432x288 with 2 Axes>"
      ]
     },
     "metadata": {},
     "output_type": "display_data"
    }
   ],
   "source": [
    "og_inv_genes = run_plot_genes(unedited_overlapping_bindict, unedited_heatmap_dict, \"P10_INV\", 4)"
   ]
  },
  {
   "cell_type": "code",
   "execution_count": 26,
   "id": "8562c2c9",
   "metadata": {},
   "outputs": [
    {
     "name": "stdout",
     "output_type": "stream",
     "text": [
      "{1: ['PDZK1IP1', 'GADD45A', 'MLLT11', 'SDHC'], 2: ['MYCN', 'PAX8', 'ERCC3'], 3: ['FANCD2', 'MLH1', 'CTNNB1', 'PIK3CA'], 5: ['LIFR', 'PIK3R1', 'APC'], 7: ['PMS2', 'ETV1', 'TWIST1', 'TRIM24'], 13: ['BRCA2', 'RB1'], 16: []}\n",
      "[[2 2 3 3 3 1 1 3 3 3 3 2 1 1 0 1 1 3 1 1]]\n",
      "['Clone 1']\n"
     ]
    },
    {
     "data": {
      "image/png": "[encoded data removed]",
      "text/plain": [
       "<Figure size 432x288 with 2 Axes>"
      ]
     },
     "metadata": {},
     "output_type": "display_data"
    }
   ],
   "source": [
    "edit_dcis_genes = run_plot_genes(edited_overlapping_bindict, edited_heatmap_dict, \"P10_DCIS\", 2)"
   ]
  },
  {
   "cell_type": "code",
   "execution_count": 27,
   "id": "97f11673",
   "metadata": {},
   "outputs": [
    {
     "name": "stdout",
     "output_type": "stream",
     "text": [
      "{1: ['PDZK1IP1', 'GADD45A', 'MLLT11', 'SDHC'], 2: ['MYCN', 'PAX8', 'ERCC3'], 3: ['FANCD2', 'MLH1', 'CTNNB1', 'PIK3CA'], 5: ['LIFR', 'PIK3R1', 'APC'], 7: ['PMS2', 'ETV1', 'TWIST1', 'TRIM24'], 13: ['BRCA2', 'RB1'], 16: []}\n",
      "[[2 2 3 3 3 1 1 3 3 3 3 2 1 1 0 1 1 3 1 1]]\n",
      "['Clone 1']\n"
     ]
    },
    {
     "data": {
      "image/png": "[encoded data removed]",
      "text/plain": [
       "<Figure size 432x288 with 2 Axes>"
      ]
     },
     "metadata": {},
     "output_type": "display_data"
    }
   ],
   "source": [
    "edit_inv_genes = run_plot_genes(edited_overlapping_bindict, edited_heatmap_dict, \"P10_INV\", 2)"
   ]
  },
  {
   "cell_type": "code",
   "execution_count": 36,
   "id": "0ddc17a2",
   "metadata": {},
   "outputs": [],
   "source": [
    "sample = 'P10_INV'\n",
    "\n",
    "sncell = [[1, 1, 1, 1, 1, -1, -1, 1, -1, -1, 1, -1, -1, -1, 1, 1, -1, 1, -1, -1]] # dark purple # black\n",
    "edited = [[0, 0, 1, 1, 1, -1, -1, -1, -1, -1, -1, -1, -1, -1, -1, -1, -1, 1, -1, -1]] # c2\n",
    "original = [[0, 0, 0, 0, 0, -1, -1, -1, -1, -1, -1, 0, -1, -1, -1, -1, -1, 0, -1, -1]] # c3"
   ]
  },
  {
   "cell_type": "code",
   "execution_count": 37,
   "id": "1b55fc63",
   "metadata": {},
   "outputs": [
    {
     "name": "stdout",
     "output_type": "stream",
     "text": [
      "correct [('amps, amps', 'MLLT11'), ('amps, amps', 'SDHC'), ('amps, amps', 'MYCN'), ('dels, dels', 'PAX8'), ('dels, dels', 'ERCC3'), ('dels, dels', 'MLH1'), ('dels, dels', 'CTNNB1'), ('dels, dels', 'LIFR'), ('dels, dels', 'PIK3R1'), ('dels, dels', 'APC'), ('dels, dels', 'TWIST1'), ('amps, amps', 'TRIM24'), ('dels, dels', 'BRCA2'), ('dels, dels', 'RB1')]\n",
      "incorrect [('amps, neus', 'PDZK1IP1'), ('amps, neus', 'GADD45A'), ('amps, dels', 'FANCD2'), ('amps, dels', 'PIK3CA'), ('amps, dels', 'PMS2'), ('amps, dels', 'ETV1')]\n",
      "correct [('dels, dels', 'PAX8'), ('dels, dels', 'ERCC3'), ('dels, dels', 'MLH1'), ('dels, dels', 'CTNNB1'), ('dels, dels', 'PIK3R1'), ('dels, dels', 'APC'), ('dels, dels', 'TWIST1'), ('dels, dels', 'BRCA2'), ('dels, dels', 'RB1')]\n",
      "incorrect [('amps, neus', 'PDZK1IP1'), ('amps, neus', 'GADD45A'), ('amps, neus', 'MLLT11'), ('amps, neus', 'SDHC'), ('amps, neus', 'MYCN'), ('amps, dels', 'FANCD2'), ('amps, dels', 'PIK3CA'), ('dels, neus', 'LIFR'), ('amps, dels', 'PMS2'), ('amps, dels', 'ETV1'), ('amps, neus', 'TRIM24')]\n"
     ]
    }
   ],
   "source": [
    "edited_plot_data = calc_plot_data(sncell, edited, edit_inv_genes)\n",
    "original_plot_data = calc_plot_data(sncell, original, og_inv_genes)"
   ]
  },
  {
   "cell_type": "code",
   "execution_count": 38,
   "id": "4d40e0e9",
   "metadata": {},
   "outputs": [
    {
     "data": {
      "image/png": "[encoded data removed]",
      "text/plain": [
       "<Figure size 432x288 with 2 Axes>"
      ]
     },
     "metadata": {},
     "output_type": "display_data"
    }
   ],
   "source": [
    "title = \"%s Original HATCHet: Total CN (Majority Clones)\" % sample\n",
    "run_plot_heatmap(original_plot_data, title)"
   ]
  },
  {
   "cell_type": "code",
   "execution_count": 39,
   "id": "eae02ff3",
   "metadata": {},
   "outputs": [
    {
     "data": {
      "image/png": "[encoded data removed]",
      "text/plain": [
       "<Figure size 432x288 with 2 Axes>"
      ]
     },
     "metadata": {},
     "output_type": "display_data"
    }
   ],
   "source": [
    "title = \"%s Edited HATCHet: Total CN (Majority Clones)\" % sample\n",
    "run_plot_heatmap(edited_plot_data, title)"
   ]
  },
  {
   "cell_type": "code",
   "execution_count": 40,
   "id": "c5271ad7",
   "metadata": {},
   "outputs": [],
   "source": [
    "# write to file\n",
    "f = \"/Users/gillianchu/mek/cnaviz/genes/summary/P10_INV_hatchet.txt\"\n",
    "with open(f, \"w+\") as w:\n",
    "    w.write(str(original_plot_data) + \"\\n\")\n",
    "    w.write(str(edited_plot_data) + \"\\n\")"
   ]
  },
  {
   "cell_type": "code",
   "execution_count": 41,
   "id": "beccf2ac",
   "metadata": {},
   "outputs": [],
   "source": [
    "sample = 'P10_DCIS'\n",
    "\n",
    "sncell = [[1, 1, 1, 1, 1, -1, -1, 1, -1, -1, 1, -1, -1, -1, -1, -1, -1, 1, -1, -1]] # black\n",
    "edited = [[ 0,  0,  1,  1,  1, -1, -1, -1, -1, -1, -1, -1, -1, -1, -1, -1, -1,\n",
    "        1, -1, -1]] # c2\n",
    "original = [[ 0,  0,  0,  0,  0, -1, -1, -1, -1, -1, -1,  0, -1, -1, -1, -1, -1,\n",
    "        0, -1, -1]] # c3"
   ]
  },
  {
   "cell_type": "code",
   "execution_count": 42,
   "id": "ea81a409",
   "metadata": {},
   "outputs": [
    {
     "name": "stdout",
     "output_type": "stream",
     "text": [
      "correct [('amps, amps', 'MLLT11'), ('amps, amps', 'SDHC'), ('amps, amps', 'MYCN'), ('dels, dels', 'PAX8'), ('dels, dels', 'ERCC3'), ('dels, dels', 'MLH1'), ('dels, dels', 'CTNNB1'), ('dels, dels', 'LIFR'), ('dels, dels', 'PIK3R1'), ('dels, dels', 'APC'), ('dels, dels', 'PMS2'), ('dels, dels', 'ETV1'), ('dels, dels', 'TWIST1'), ('amps, amps', 'TRIM24'), ('dels, dels', 'BRCA2'), ('dels, dels', 'RB1')]\n",
      "incorrect [('amps, neus', 'PDZK1IP1'), ('amps, neus', 'GADD45A'), ('amps, dels', 'FANCD2'), ('amps, dels', 'PIK3CA')]\n",
      "correct [('dels, dels', 'PAX8'), ('dels, dels', 'ERCC3'), ('dels, dels', 'MLH1'), ('dels, dels', 'CTNNB1'), ('dels, dels', 'PIK3R1'), ('dels, dels', 'APC'), ('dels, dels', 'PMS2'), ('dels, dels', 'ETV1'), ('dels, dels', 'TWIST1'), ('dels, dels', 'BRCA2'), ('dels, dels', 'RB1')]\n",
      "incorrect [('amps, neus', 'PDZK1IP1'), ('amps, neus', 'GADD45A'), ('amps, neus', 'MLLT11'), ('amps, neus', 'SDHC'), ('amps, neus', 'MYCN'), ('amps, dels', 'FANCD2'), ('amps, dels', 'PIK3CA'), ('dels, neus', 'LIFR'), ('amps, neus', 'TRIM24')]\n"
     ]
    }
   ],
   "source": [
    "edited_plot_data = calc_plot_data(sncell, edited, edit_dcis_genes)\n",
    "original_plot_data = calc_plot_data(sncell, original, og_dcis_genes)"
   ]
  },
  {
   "cell_type": "code",
   "execution_count": 43,
   "id": "07d12410",
   "metadata": {},
   "outputs": [
    {
     "data": {
      "image/png": "[encoded data removed]",
      "text/plain": [
       "<Figure size 432x288 with 2 Axes>"
      ]
     },
     "metadata": {},
     "output_type": "display_data"
    }
   ],
   "source": [
    "title = \"%s Original HATCHet: Total CN (Majority Clones)\" % sample\n",
    "run_plot_heatmap(original_plot_data, title)"
   ]
  },
  {
   "cell_type": "code",
   "execution_count": 44,
   "id": "94f340b8",
   "metadata": {},
   "outputs": [
    {
     "data": {
      "image/png": "[encoded data removed]",
      "text/plain": [
       "<Figure size 432x288 with 2 Axes>"
      ]
     },
     "metadata": {},
     "output_type": "display_data"
    }
   ],
   "source": [
    "title = \"%s Edited HATCHet: Total CN (Majority Clones)\" % sample\n",
    "run_plot_heatmap(edited_plot_data, title)"
   ]
  },
  {
   "cell_type": "code",
   "execution_count": 45,
   "id": "349e9161",
   "metadata": {},
   "outputs": [],
   "source": [
    "# write to file\n",
    "f = \"/Users/gillianchu/mek/cnaviz/genes/summary/P10_DCIS_hatchet.txt\"\n",
    "with open(f, \"w+\") as w:\n",
    "    w.write(str(original_plot_data) + \"\\n\")\n",
    "    w.write(str(edited_plot_data) + \"\\n\")"
   ]
  },
  {
   "cell_type": "code",
   "execution_count": null,
   "id": "9bcd219f",
   "metadata": {},
   "outputs": [],
   "source": []
  },
  {
   "cell_type": "code",
   "execution_count": null,
   "id": "9bbe9444",
   "metadata": {},
   "outputs": [],
   "source": []
  }
 ],
 "metadata": {
  "kernelspec": {
   "display_name": "Python 3",
   "language": "python",
   "name": "python3"
  },
  "language_info": {
   "codemirror_mode": {
    "name": "ipython",
    "version": 3
   },
   "file_extension": ".py",
   "mimetype": "text/x-python",
   "name": "python",
   "nbconvert_exporter": "python",
   "pygments_lexer": "ipython3",
   "version": "3.7.10"
  }
 },
 "nbformat": 4,
 "nbformat_minor": 5
}
